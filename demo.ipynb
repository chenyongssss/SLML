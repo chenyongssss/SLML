{
 "cells": [
  {
   "cell_type": "code",
   "execution_count": 1,
   "id": "979fdc41",
   "metadata": {},
   "outputs": [],
   "source": [
    "import numpy as np\n",
    "import random\n",
    "import enum \n",
    "import scipy\n",
    "from scipy import special\n",
    "import functools\n",
    "from typing import (\n",
    "    Any, Dict, List, Optional, Mapping, Set, TypeVar, Tuple, Union, Iterator, Sequence\n",
    ")\n",
    "import tensorflow as tf\n",
    "import matplotlib.pyplot as plt\n",
    "import pandas as pd\n",
    "\n",
    "tf.keras.backend.set_floatx('float64')"
   ]
  },
  {
   "attachments": {},
   "cell_type": "markdown",
   "id": "6bf4acf2",
   "metadata": {},
   "source": [
    "##  load data"
   ]
  },
  {
   "cell_type": "code",
   "execution_count": 2,
   "id": "9fe35771",
   "metadata": {},
   "outputs": [],
   "source": [
    "from scipy import io\n",
    "mat = io.loadmat('linear_square.mat')\n",
    "data_all = mat['linear_square']"
   ]
  },
  {
   "cell_type": "code",
   "execution_count": 3,
   "id": "8aeed659",
   "metadata": {},
   "outputs": [
    {
     "data": {
      "text/plain": [
       "(257, 30, 256)"
      ]
     },
     "execution_count": 3,
     "metadata": {},
     "output_type": "execute_result"
    }
   ],
   "source": [
    "data_all = data_all[:,:257,:]\n",
    "data_all = data_all.transpose(1,0,2)\n",
    "data_all.shape"
   ]
  },
  {
   "cell_type": "code",
   "execution_count": 4,
   "id": "47cac263",
   "metadata": {},
   "outputs": [
    {
     "data": {
      "image/png": "[encoded data removed]",
      "text/plain": [
       "<Figure size 576x576 with 1 Axes>"
      ]
     },
     "metadata": {
      "needs_background": "light"
     },
     "output_type": "display_data"
    }
   ],
   "source": [
    "x_fine = np.linspace(0,1,256)\n",
    "plt.figure(figsize=(8,8))\n",
    "plt.plot(x_fine,data_all[0,0,:])\n",
    "plt.plot(x_fine,data_all[0,10,:])\n",
    "plt.plot(x_fine,data_all[0,20,:])\n",
    "plt.show()"
   ]
  },
  {
   "attachments": {},
   "cell_type": "markdown",
   "id": "3e49838d",
   "metadata": {},
   "source": [
    "## coasen"
   ]
  },
  {
   "cell_type": "code",
   "execution_count": 5,
   "id": "70146ebf",
   "metadata": {},
   "outputs": [],
   "source": [
    "data_all_coarse = np.zeros((257,30,32))\n",
    "for i in range(257):\n",
    "    for j in range(30):\n",
    "        for k in range(32):\n",
    "            data_all_coarse[i,j,k] = np.mean([data_all[i,j,k*8+p] for p  in range(8)])\n"
   ]
  },
  {
   "cell_type": "code",
   "execution_count": 6,
   "id": "b6489f30",
   "metadata": {},
   "outputs": [
    {
     "data": {
      "image/png": "[encoded data removed]",
      "text/plain": [
       "<Figure size 576x576 with 1 Axes>"
      ]
     },
     "metadata": {
      "needs_background": "light"
     },
     "output_type": "display_data"
    }
   ],
   "source": [
    "x_coarse = np.arange(1/64,1,1/32)\n",
    "plt.figure(figsize=(8,8))\n",
    "plt.plot(x_coarse,data_all_coarse[0,0,:])\n",
    "plt.plot(x_coarse,data_all_coarse[0,10,:])\n",
    "plt.plot(x_coarse,data_all_coarse[0,20,:])\n",
    "plt.show()\n"
   ]
  },
  {
   "attachments": {},
   "cell_type": "markdown",
   "id": "b6ccf8ce",
   "metadata": {},
   "source": [
    "## build model"
   ]
  },
  {
   "cell_type": "code",
   "execution_count": 7,
   "id": "ff366ae0",
   "metadata": {},
   "outputs": [],
   "source": [
    "class Conv1DPeriodic(tf.keras.layers.Layer):\n",
    "\n",
    "    def __init__(self, filters: int, kernel_size: Sequence[int],activation, **kwargs):\n",
    "        super(Conv1DPeriodic,self).__init__()\n",
    "        self._layer = tf.keras.layers.Conv1D(\n",
    "            filters, kernel_size, activation=activation,padding='valid')\n",
    "        self.filters = self._layer.filters\n",
    "        self.kernel_size = self._layer.kernel_size\n",
    "\n",
    "        if any( size % 2 == 0 for size in self.kernel_size):\n",
    "            raise ValueError('kernel size for conv1d is not odd: {}'\n",
    "                        .format(self.kernel_size))\n",
    "\n",
    "\n",
    "    def build(self, input_shape):\n",
    "        self._layer.build(input_shape)\n",
    "        super().build(input_shape)\n",
    "\n",
    "    def compute_output_shape(self, input_shape):\n",
    "        return input_shape[:-1] + (self.filters,)\n",
    "\n",
    "\n",
    "\n",
    "    def pad_periodic_1d(self, inputs):\n",
    "        # here we consider periodic\n",
    "        padding = self.kernel_size[0]//2\n",
    "        tensors = [inputs[:,-padding:,:], inputs, inputs[:,:padding,:]]\n",
    "        return tf.concat(tensors, axis=1)\n",
    "\n",
    "\n",
    "\n",
    "    def call(self, inputs):\n",
    "        padded = self.pad_periodic_1d(inputs)\n",
    "        result = self._layer(padded)\n",
    "        # assert result.shape[1:3] == inputs.shape[1:3], (result, inputs)\n",
    "        return result\n"
   ]
  },
  {
   "cell_type": "code",
   "execution_count": 8,
   "id": "3c4bac1e",
   "metadata": {},
   "outputs": [],
   "source": [
    "class OutPutLayer(tf.keras.layers.Layer):\n",
    "\n",
    "    def __init__(self, stencil_size:int = 5):\n",
    "        super(OutPutLayer,self).__init__()\n",
    "        self.stencil_size = stencil_size\n",
    "        \n",
    "\n",
    "\n",
    "    @tf.function\n",
    "    def recover_coefficients(self, tensors):\n",
    "        tensors = tensors - tf.math.reduce_mean(tensors,axis=-1)[...,tf.newaxis] + 1./self.stencil_size  #试试矩阵乘积\n",
    "        # tensors = tf.reverse(tensors,[-1])\n",
    "\n",
    "        y = tf.TensorArray(tf.float64, self.stencil_size)\n",
    "\n",
    "        for i in tf.range(self.stencil_size):\n",
    "\n",
    "            y = y.write(i,tf.roll(tensors[:,:,i],shift=-i+self.stencil_size//2,axis=1))\n",
    "        \n",
    "        return tf.transpose(y.stack(), [1,2,0])\n",
    "\n",
    "\n",
    "    def call(self, inputs):\n",
    "        \n",
    "        return self.recover_coefficients(inputs)"
   ]
  },
  {
   "cell_type": "code",
   "execution_count": 9,
   "id": "c7f7febe",
   "metadata": {},
   "outputs": [],
   "source": [
    "def conv1d_stack(num_outputs, num_layers=6, filters=32, kernel_size=5,\n",
    "                 activation='relu', **kwargs):\n",
    "  \"\"\"Create a sequence of Conv2DPeriodic layers.\"\"\"\n",
    "  model = tf.keras.Sequential()\n",
    "  for _ in range(num_layers-1):\n",
    "    layer = Conv1DPeriodic(\n",
    "        filters, kernel_size, activation=activation, **kwargs)\n",
    "    model.add(layer)\n",
    "  model.add(Conv1DPeriodic(num_outputs, kernel_size, activation = activation,**kwargs))\n",
    "  model.add(OutPutLayer(num_outputs))\n",
    "  return model"
   ]
  },
  {
   "cell_type": "code",
   "execution_count": 10,
   "id": "cde8c22d",
   "metadata": {},
   "outputs": [],
   "source": [
    "class Grid():\n",
    "    def __init__(self, size:int=32, domain:Tuple[float,float] = (0.,1.)):\n",
    "        self.size = size\n",
    "        self.domain = domain\n",
    "        self.length = domain[1] - domain[0]\n",
    "        assert self.length > 0\n",
    "        self.step:float = self.length/self.size\n",
    "\n",
    "        self.x = np.linspace(self.domain[0],self.domain[1], self.size + 1)\n",
    "\n",
    "        self.xc = np.arange(self.domain[0]+self.step*0.5, self.domain[1], self.step)"
   ]
  },
  {
   "cell_type": "code",
   "execution_count": 11,
   "id": "77e14e38",
   "metadata": {},
   "outputs": [],
   "source": [
    "def velocity(x,t):\n",
    "    if t is not tf.Tensor:\n",
    "        t = tf.convert_to_tensor(t) \n",
    "\n",
    "\n",
    "    return tf.ones_like(x,dtype=tf.float64)"
   ]
  },
  {
   "cell_type": "code",
   "execution_count": 12,
   "id": "66cc94c5",
   "metadata": {},
   "outputs": [],
   "source": [
    "class SLGeometry:\n",
    "    def __init__(self, grid:Grid, vel=velocity):\n",
    "        self.grid = grid\n",
    "        self.velocity = vel\n",
    "\n",
    "   \n",
    "    def get_upstram(self, t, time_step): # t:current time\n",
    "        \n",
    "        Nt = t.shape[0]\n",
    "        X = tf.stack([self.grid.x[:-1]]*Nt,axis=0)\n",
    "        T = t + time_step\n",
    "\n",
    "        k1 = time_step[:,tf.newaxis]*self.velocity(X, T);\n",
    "        k2 = time_step[:,tf.newaxis]*self.velocity(X - 0.5*k1, T - 0.5*time_step)\n",
    "        k3 = time_step[:,tf.newaxis]*self.velocity(X - 0.5*k2, T - 0.5*time_step)\n",
    "        k4 = time_step[:,tf.newaxis]*self.velocity(X -     k3, T -     time_step)\n",
    "\n",
    "       \n",
    "        return - (k1 + 2*k2 + 2*k3 + k4)/6./self.grid.step "
   ]
  },
  {
   "cell_type": "code",
   "execution_count": 13,
   "id": "9d3c62a5",
   "metadata": {
    "collapsed": true
   },
   "outputs": [
    {
     "name": "stdout",
     "output_type": "stream",
     "text": [
      "tf.Tensor(\n",
      "[[-33.05083965 -33.05083965 -33.05083965 -33.05083965 -33.05083965\n",
      "  -33.05083965 -33.05083965 -33.05083965 -33.05083965 -33.05083965\n",
      "  -33.05083965 -33.05083965 -33.05083965 -33.05083965 -33.05083965\n",
      "  -33.05083965 -33.05083965 -33.05083965 -33.05083965 -33.05083965\n",
      "  -33.05083965 -33.05083965 -33.05083965 -33.05083965 -33.05083965\n",
      "  -33.05083965 -33.05083965 -33.05083965 -33.05083965 -33.05083965\n",
      "  -33.05083965 -33.05083965]\n",
      " [-63.94242171 -63.94242171 -63.94242171 -63.94242171 -63.94242171\n",
      "  -63.94242171 -63.94242171 -63.94242171 -63.94242171 -63.94242171\n",
      "  -63.94242171 -63.94242171 -63.94242171 -63.94242171 -63.94242171\n",
      "  -63.94242171 -63.94242171 -63.94242171 -63.94242171 -63.94242171\n",
      "  -63.94242171 -63.94242171 -63.94242171 -63.94242171 -63.94242171\n",
      "  -63.94242171 -63.94242171 -63.94242171 -63.94242171 -63.94242171\n",
      "  -63.94242171 -63.94242171]\n",
      " [ 19.54459186  19.54459186  19.54459186  19.54459186  19.54459186\n",
      "   19.54459186  19.54459186  19.54459186  19.54459186  19.54459186\n",
      "   19.54459186  19.54459186  19.54459186  19.54459186  19.54459186\n",
      "   19.54459186  19.54459186  19.54459186  19.54459186  19.54459186\n",
      "   19.54459186  19.54459186  19.54459186  19.54459186  19.54459186\n",
      "   19.54459186  19.54459186  19.54459186  19.54459186  19.54459186\n",
      "   19.54459186  19.54459186]\n",
      " [ -4.72273219  -4.72273219  -4.72273219  -4.72273219  -4.72273219\n",
      "   -4.72273219  -4.72273219  -4.72273219  -4.72273219  -4.72273219\n",
      "   -4.72273219  -4.72273219  -4.72273219  -4.72273219  -4.72273219\n",
      "   -4.72273219  -4.72273219  -4.72273219  -4.72273219  -4.72273219\n",
      "   -4.72273219  -4.72273219  -4.72273219  -4.72273219  -4.72273219\n",
      "   -4.72273219  -4.72273219  -4.72273219  -4.72273219  -4.72273219\n",
      "   -4.72273219  -4.72273219]\n",
      " [ 49.94990045  49.94990045  49.94990045  49.94990045  49.94990045\n",
      "   49.94990045  49.94990045  49.94990045  49.94990045  49.94990045\n",
      "   49.94990045  49.94990045  49.94990045  49.94990045  49.94990045\n",
      "   49.94990045  49.94990045  49.94990045  49.94990045  49.94990045\n",
      "   49.94990045  49.94990045  49.94990045  49.94990045  49.94990045\n",
      "   49.94990045  49.94990045  49.94990045  49.94990045  49.94990045\n",
      "   49.94990045  49.94990045]\n",
      " [ 10.98364987  10.98364987  10.98364987  10.98364987  10.98364987\n",
      "   10.98364987  10.98364987  10.98364987  10.98364987  10.98364987\n",
      "   10.98364987  10.98364987  10.98364987  10.98364987  10.98364987\n",
      "   10.98364987  10.98364987  10.98364987  10.98364987  10.98364987\n",
      "   10.98364987  10.98364987  10.98364987  10.98364987  10.98364987\n",
      "   10.98364987  10.98364987  10.98364987  10.98364987  10.98364987\n",
      "   10.98364987  10.98364987]\n",
      " [-27.2143005  -27.2143005  -27.2143005  -27.2143005  -27.2143005\n",
      "  -27.2143005  -27.2143005  -27.2143005  -27.2143005  -27.2143005\n",
      "  -27.2143005  -27.2143005  -27.2143005  -27.2143005  -27.2143005\n",
      "  -27.2143005  -27.2143005  -27.2143005  -27.2143005  -27.2143005\n",
      "  -27.2143005  -27.2143005  -27.2143005  -27.2143005  -27.2143005\n",
      "  -27.2143005  -27.2143005  -27.2143005  -27.2143005  -27.2143005\n",
      "  -27.2143005  -27.2143005 ]\n",
      " [-10.40535013 -10.40535013 -10.40535013 -10.40535013 -10.40535013\n",
      "  -10.40535013 -10.40535013 -10.40535013 -10.40535013 -10.40535013\n",
      "  -10.40535013 -10.40535013 -10.40535013 -10.40535013 -10.40535013\n",
      "  -10.40535013 -10.40535013 -10.40535013 -10.40535013 -10.40535013\n",
      "  -10.40535013 -10.40535013 -10.40535013 -10.40535013 -10.40535013\n",
      "  -10.40535013 -10.40535013 -10.40535013 -10.40535013 -10.40535013\n",
      "  -10.40535013 -10.40535013]\n",
      " [ -2.91992101  -2.91992101  -2.91992101  -2.91992101  -2.91992101\n",
      "   -2.91992101  -2.91992101  -2.91992101  -2.91992101  -2.91992101\n",
      "   -2.91992101  -2.91992101  -2.91992101  -2.91992101  -2.91992101\n",
      "   -2.91992101  -2.91992101  -2.91992101  -2.91992101  -2.91992101\n",
      "   -2.91992101  -2.91992101  -2.91992101  -2.91992101  -2.91992101\n",
      "   -2.91992101  -2.91992101  -2.91992101  -2.91992101  -2.91992101\n",
      "   -2.91992101  -2.91992101]\n",
      " [ 25.15656873  25.15656873  25.15656873  25.15656873  25.15656873\n",
      "   25.15656873  25.15656873  25.15656873  25.15656873  25.15656873\n",
      "   25.15656873  25.15656873  25.15656873  25.15656873  25.15656873\n",
      "   25.15656873  25.15656873  25.15656873  25.15656873  25.15656873\n",
      "   25.15656873  25.15656873  25.15656873  25.15656873  25.15656873\n",
      "   25.15656873  25.15656873  25.15656873  25.15656873  25.15656873\n",
      "   25.15656873  25.15656873]\n",
      " [  0.08222933   0.08222933   0.08222933   0.08222933   0.08222933\n",
      "    0.08222933   0.08222933   0.08222933   0.08222933   0.08222933\n",
      "    0.08222933   0.08222933   0.08222933   0.08222933   0.08222933\n",
      "    0.08222933   0.08222933   0.08222933   0.08222933   0.08222933\n",
      "    0.08222933   0.08222933   0.08222933   0.08222933   0.08222933\n",
      "    0.08222933   0.08222933   0.08222933   0.08222933   0.08222933\n",
      "    0.08222933   0.08222933]\n",
      " [ 42.15120674  42.15120674  42.15120674  42.15120674  42.15120674\n",
      "   42.15120674  42.15120674  42.15120674  42.15120674  42.15120674\n",
      "   42.15120674  42.15120674  42.15120674  42.15120674  42.15120674\n",
      "   42.15120674  42.15120674  42.15120674  42.15120674  42.15120674\n",
      "   42.15120674  42.15120674  42.15120674  42.15120674  42.15120674\n",
      "   42.15120674  42.15120674  42.15120674  42.15120674  42.15120674\n",
      "   42.15120674  42.15120674]\n",
      " [  1.31834545   1.31834545   1.31834545   1.31834545   1.31834545\n",
      "    1.31834545   1.31834545   1.31834545   1.31834545   1.31834545\n",
      "    1.31834545   1.31834545   1.31834545   1.31834545   1.31834545\n",
      "    1.31834545   1.31834545   1.31834545   1.31834545   1.31834545\n",
      "    1.31834545   1.31834545   1.31834545   1.31834545   1.31834545\n",
      "    1.31834545   1.31834545   1.31834545   1.31834545   1.31834545\n",
      "    1.31834545   1.31834545]\n",
      " [-27.36803295 -27.36803295 -27.36803295 -27.36803295 -27.36803295\n",
      "  -27.36803295 -27.36803295 -27.36803295 -27.36803295 -27.36803295\n",
      "  -27.36803295 -27.36803295 -27.36803295 -27.36803295 -27.36803295\n",
      "  -27.36803295 -27.36803295 -27.36803295 -27.36803295 -27.36803295\n",
      "  -27.36803295 -27.36803295 -27.36803295 -27.36803295 -27.36803295\n",
      "  -27.36803295 -27.36803295 -27.36803295 -27.36803295 -27.36803295\n",
      "  -27.36803295 -27.36803295]\n",
      " [ -0.13460244  -0.13460244  -0.13460244  -0.13460244  -0.13460244\n",
      "   -0.13460244  -0.13460244  -0.13460244  -0.13460244  -0.13460244\n",
      "   -0.13460244  -0.13460244  -0.13460244  -0.13460244  -0.13460244\n",
      "   -0.13460244  -0.13460244  -0.13460244  -0.13460244  -0.13460244\n",
      "   -0.13460244  -0.13460244  -0.13460244  -0.13460244  -0.13460244\n",
      "   -0.13460244  -0.13460244  -0.13460244  -0.13460244  -0.13460244\n",
      "   -0.13460244  -0.13460244]\n",
      " [ -9.46014696  -9.46014696  -9.46014696  -9.46014696  -9.46014696\n",
      "   -9.46014696  -9.46014696  -9.46014696  -9.46014696  -9.46014696\n",
      "   -9.46014696  -9.46014696  -9.46014696  -9.46014696  -9.46014696\n",
      "   -9.46014696  -9.46014696  -9.46014696  -9.46014696  -9.46014696\n",
      "   -9.46014696  -9.46014696  -9.46014696  -9.46014696  -9.46014696\n",
      "   -9.46014696  -9.46014696  -9.46014696  -9.46014696  -9.46014696\n",
      "   -9.46014696  -9.46014696]], shape=(16, 32), dtype=float64)\n"
     ]
    }
   ],
   "source": [
    "slmodel = SLGeometry(Grid())\n",
    "\n",
    "\n",
    "print(slmodel.get_upstram(tf.random.normal([16],dtype=tf.float64), tf.random.normal([16],dtype=tf.float64)))"
   ]
  },
  {
   "cell_type": "code",
   "execution_count": null,
   "id": "a54ff66f",
   "metadata": {},
   "outputs": [],
   "source": [
    "class SemiLagFiniteVolume(tf.keras.Model):\n",
    "\n",
    "    def __init__(\n",
    "        self, slmodel:SLGeometry, stencil_size=5, \n",
    "               core_model_func=conv1d_stack,\n",
    "               num_time_steps=4,\n",
    "               name='SemiLagFiniteVolumeModel',\n",
    "               **kwargs,\n",
    "        ):\n",
    "        super(SemiLagFiniteVolume,self).__init__()\n",
    "\n",
    "        self.stencil_size = stencil_size\n",
    "        self.num_time_steps = num_time_steps\n",
    "        self.core_model = core_model_func(stencil_size, **kwargs)\n",
    "        self.slmodel = slmodel\n",
    "\n",
    "\n",
    "    def pad_periodic_1d(self, inputs):\n",
    "        # here we consider \n",
    "        padding = self.stencil_size//2\n",
    "        tensors = [inputs[:,-padding:], inputs, inputs[:,:padding]]\n",
    "        return tf.concat(tensors, axis=1)\n",
    "\n",
    "    def call(self, inputs):\n",
    "        current_time = tf.squeeze(inputs['current_time'])\n",
    "        time_step = tf.squeeze(inputs['time_step'])\n",
    "        solution_tensor = inputs['solution']\n",
    "        solution_all = []\n",
    "        for i in range(self.num_time_steps):\n",
    "             \n",
    "            xi = self.slmodel.get_upstram(current_time, time_step)\n",
    "           \n",
    "            coefficients = self.core_model(tf.stack([solution_tensor, xi],axis=2))\n",
    "           \n",
    "            padded = self.pad_periodic_1d(solution_tensor)\n",
    "            extracted = tf.image.extract_patches(padded[...,tf.newaxis,tf.newaxis],\n",
    "                                    [1, self.stencil_size, 1, 1],\n",
    "                                    strides=[1, 1, 1, 1],\n",
    "                                    rates=[1, 1, 1, 1],\n",
    "                                    padding='VALID')\n",
    "\n",
    "            extracted = tf.squeeze(extracted, axis=2)\n",
    "            \n",
    "            solution_tensor = tf.reduce_sum(coefficients*extracted,axis=2)\n",
    "            solution_all.append(solution_tensor)\n",
    "            current_time += time_step\n",
    "        return tf.stack(solution_all,axis=2)"
   ]
  },
  {
   "attachments": {},
   "cell_type": "markdown",
   "id": "a6995c99",
   "metadata": {},
   "source": [
    "## make training data "
   ]
  },
  {
   "cell_type": "code",
   "execution_count": 14,
   "id": "5d265e94",
   "metadata": {},
   "outputs": [],
   "source": [
    "def make_train_data(data,output_time_step=1,delta_t=1/256*0.6,times=2):\n",
    "    time_steps_all = data.shape[0]-1\n",
    "    train_input = {}\n",
    "    train_input_sol = data[:-output_time_step*times]\n",
    "    print(train_input_sol.shape)\n",
    "    current_time = np.array([[delta_t*j]*data.shape[1] for j in range(train_input_sol.shape[0])])\n",
    "    current_time = tf.reshape(current_time,[current_time.shape[0]*current_time.shape[1],1])\n",
    "    train_input['current_time'] = current_time\n",
    "    train_input['time_step'] = np.ones(current_time.shape[0])*delta_t*times\n",
    "    \n",
    "    train_input_sol = train_input_sol.reshape(-1,data.shape[-1])\n",
    "     \n",
    "    # train_input_sol = train_input_sol[...,tf.newaxis]\n",
    "    train_input['solution'] = train_input_sol\n",
    "    train_output = []\n",
    "    for shift in range(times, output_time_step*times+1,times):\n",
    "        output_slice = data[shift:time_steps_all-output_time_step*times+shift+1]\n",
    "        output_slice = output_slice.reshape(-1,data.shape[-1])\n",
    "        output_slice = output_slice[...,tf.newaxis]\n",
    "        train_output.append(output_slice)\n",
    "    train_output = tf.concat(train_output,axis=2)\n",
    "    assert  train_input['solution'].shape[0]==train_output.shape[0]\n",
    "    assert  train_input['solution'].shape[1]==train_output.shape[1]\n",
    "    return train_input, train_output"
   ]
  },
  {
   "cell_type": "code",
   "execution_count": 15,
   "id": "a725468b",
   "metadata": {},
   "outputs": [
    {
     "name": "stdout",
     "output_type": "stream",
     "text": [
      "(249, 30, 32)\n"
     ]
    }
   ],
   "source": [
    "train_input, train_output = make_train_data(data_all_coarse,4)"
   ]
  },
  {
   "cell_type": "code",
   "execution_count": 16,
   "id": "dc24ca48",
   "metadata": {},
   "outputs": [],
   "source": [
    "def make_train_data_multi(data,output_time_step=4,delta_t=1/256*0.6,times_steps_all = [4,8,16]):\n",
    "    train_input = {}\n",
    "    train_output = []\n",
    "    current_time = []\n",
    "    time_step = []\n",
    "    train_input_sol = []\n",
    "#     times_steps_all = [1,2,4,8,16]\n",
    "    for k in times_steps_all:\n",
    "        train_input_temp, train_output_temp = make_train_data(data, output_time_step,delta_t,k)\n",
    "        current_time.append(train_input_temp['current_time'])\n",
    "        time_step.append(train_input_temp['time_step'])\n",
    "        train_input_sol.append(train_input_temp['solution'])\n",
    "        train_output.append(train_output_temp)\n",
    "    train_input['solution'] = tf.concat(train_input_sol, axis=0)\n",
    "    train_input['current_time'] = tf.concat(current_time, axis=0)\n",
    "    train_input['time_step'] = tf.concat(time_step, axis=0)\n",
    "    train_output = tf.concat(train_output, axis=0)\n",
    "    \n",
    "    return train_input, train_output\n",
    "    "
   ]
  },
  {
   "cell_type": "code",
   "execution_count": 17,
   "id": "064772dc",
   "metadata": {},
   "outputs": [
    {
     "name": "stdout",
     "output_type": "stream",
     "text": [
      "(241, 30, 32)\n",
      "(225, 30, 32)\n",
      "(193, 30, 32)\n",
      "(169, 30, 32)\n"
     ]
    }
   ],
   "source": [
    "train_input, train_output = make_train_data_multi(data_all_coarse,4)#the time steps should also be coarsen"
   ]
  },
  {
   "cell_type": "code",
   "execution_count": 19,
   "id": "e674c602",
   "metadata": {},
   "outputs": [
    {
     "name": "stdout",
     "output_type": "stream",
     "text": [
      "solution (24840, 32)\n",
      "current_time (24840, 1)\n",
      "time_step (24840,)\n"
     ]
    }
   ],
   "source": [
    "for key in train_input.keys():\n",
    "    print(key,train_input[key].shape)"
   ]
  },
  {
   "cell_type": "code",
   "execution_count": 20,
   "id": "8c49b49c",
   "metadata": {},
   "outputs": [
    {
     "data": {
      "image/png": "[encoded data removed]",
      "text/plain": [
       "<Figure size 1152x432 with 5 Axes>"
      ]
     },
     "metadata": {
      "needs_background": "light"
     },
     "output_type": "display_data"
    }
   ],
   "source": [
    "fig, axes = plt.subplots(1, 5, figsize=[16, 6])\n",
    "\n",
    "for i, ax in enumerate(axes):\n",
    "  ax.plot(x_coarse, train_output[256*i, :, 0], marker='.')\n",
    "  ax.plot(x_coarse,train_input['solution'][256*i,:],marker='.')\n",
    "  ax.set_ylim(-0.1, 1.1)"
   ]
  },
  {
   "cell_type": "code",
   "execution_count": 22,
   "id": "87683820",
   "metadata": {},
   "outputs": [],
   "source": [
    "model = SemiLagFiniteVolume(slmodel)"
   ]
  },
  {
   "cell_type": "code",
   "execution_count": 295,
   "id": "06d18a2a",
   "metadata": {},
   "outputs": [
    {
     "name": "stdout",
     "output_type": "stream",
     "text": [
      "Epoch 1/60\n",
      "828/828 [==============================] - 96s 49ms/step - loss: 9.7753e-04\n",
      "Epoch 2/60\n",
      "828/828 [==============================] - 40s 49ms/step - loss: 5.3856e-05\n",
      "Epoch 3/60\n",
      "828/828 [==============================] - 41s 49ms/step - loss: 2.6369e-05\n",
      "Epoch 4/60\n",
      "828/828 [==============================] - 40s 48ms/step - loss: 2.4037e-05\n",
      "Epoch 5/60\n",
      "828/828 [==============================] - 41s 50ms/step - loss: 2.1464e-05\n",
      "Epoch 6/60\n",
      "828/828 [==============================] - 41s 49ms/step - loss: 2.7620e-05\n",
      "Epoch 7/60\n",
      "828/828 [==============================] - 41s 50ms/step - loss: 1.0497e-05\n",
      "Epoch 8/60\n",
      "828/828 [==============================] - 41s 49ms/step - loss: 4.2508e-05 1s \n",
      "Epoch 9/60\n",
      "828/828 [==============================] - 41s 49ms/step - loss: 7.7839e-06\n",
      "Epoch 10/60\n",
      "828/828 [==============================] - 41s 49ms/step - loss: 1.2767e-05\n",
      "Epoch 11/60\n",
      "828/828 [==============================] - 41s 50ms/step - loss: 7.4032e-06 0s - loss: 7.4115\n",
      "Epoch 12/60\n",
      "828/828 [==============================] - 41s 49ms/step - loss: 1.4650e-05\n",
      "Epoch 13/60\n",
      "828/828 [==============================] - 41s 49ms/step - loss: 7.3917e-06\n",
      "Epoch 14/60\n",
      "828/828 [==============================] - 40s 48ms/step - loss: 9.7017e-06\n",
      "Epoch 15/60\n",
      "828/828 [==============================] - 41s 49ms/step - loss: 1.1438e-05\n",
      "Epoch 16/60\n",
      "828/828 [==============================] - 41s 49ms/step - loss: 5.5339e-06\n",
      "Epoch 17/60\n",
      "828/828 [==============================] - 41s 49ms/step - loss: 6.7670e-06\n",
      "Epoch 18/60\n",
      "828/828 [==============================] - 41s 49ms/step - loss: 6.3691e-06\n",
      "Epoch 19/60\n",
      "828/828 [==============================] - 41s 49ms/step - loss: 2.7424e-05\n",
      "Epoch 20/60\n",
      "828/828 [==============================] - 41s 49ms/step - loss: 3.6189e-06\n",
      "Epoch 21/60\n",
      "828/828 [==============================] - 41s 49ms/step - loss: 3.5821e-06\n",
      "Epoch 22/60\n",
      "828/828 [==============================] - 41s 50ms/step - loss: 1.0508e-05\n",
      "Epoch 23/60\n",
      "828/828 [==============================] - 40s 48ms/step - loss: 4.5734e-06 0s - loss: 4.580\n",
      "Epoch 24/60\n",
      "828/828 [==============================] - 40s 48ms/step - loss: 9.0255e-06\n",
      "Epoch 25/60\n",
      "828/828 [==============================] - 40s 48ms/step - loss: 4.6031e-06- ETA: 0s - loss: 4\n",
      "Epoch 26/60\n",
      "828/828 [==============================] - 40s 48ms/step - loss: 5.1966e-06\n",
      "Epoch 27/60\n",
      "828/828 [==============================] - 40s 48ms/step - loss: 4.3552e-06 0s - loss: 4.3\n",
      "Epoch 28/60\n",
      "828/828 [==============================] - 40s 48ms/step - loss: 6.4062e-06 1s - l\n",
      "Epoch 29/60\n",
      "828/828 [==============================] - 40s 48ms/step - loss: 4.3140e-06 \n",
      "Epoch 30/60\n",
      "828/828 [==============================] - 40s 48ms/step - loss: 4.7533e-06 1s - l\n",
      "Epoch 31/60\n",
      "828/828 [==============================] - 40s 48ms/step - loss: 3.8259e-06 1s - loss: - ETA: 0s - loss: 3.7712\n",
      "Epoch 32/60\n",
      "828/828 [==============================] - 40s 48ms/step - loss: 4.1446e-06 0s - loss: 4.1450e\n",
      "Epoch 33/60\n",
      "828/828 [==============================] - 40s 48ms/step - loss: 2.9935e-05\n",
      "Epoch 34/60\n",
      "828/828 [==============================] - 40s 48ms/step - loss: 3.3333e-06\n",
      "Epoch 35/60\n",
      "828/828 [==============================] - 40s 48ms/step - loss: 2.9498e-06\n",
      "Epoch 36/60\n",
      "828/828 [==============================] - 40s 48ms/step - loss: 3.7135e-06\n",
      "Epoch 37/60\n",
      "828/828 [==============================] - 41s 49ms/step - loss: 3.7449e-06\n",
      "Epoch 38/60\n",
      "828/828 [==============================] - 41s 50ms/step - loss: 5.1043e-06\n",
      "Epoch 39/60\n",
      "828/828 [==============================] - 40s 49ms/step - loss: 2.5478e-06\n",
      "Epoch 40/60\n",
      "828/828 [==============================] - 41s 49ms/step - loss: 3.8494e-06\n",
      "Epoch 41/60\n",
      "828/828 [==============================] - 41s 49ms/step - loss: 3.5503e-06\n",
      "Epoch 42/60\n",
      "828/828 [==============================] - 41s 49ms/step - loss: 2.8512e-06\n",
      "Epoch 43/60\n",
      "828/828 [==============================] - 41s 49ms/step - loss: 3.0898e-06\n",
      "Epoch 44/60\n",
      "828/828 [==============================] - 41s 49ms/step - loss: 1.6943e-05\n",
      "Epoch 45/60\n",
      "828/828 [==============================] - 41s 49ms/step - loss: 2.4959e-06\n",
      "Epoch 46/60\n",
      "828/828 [==============================] - 41s 49ms/step - loss: 2.1628e-06\n",
      "Epoch 47/60\n",
      "828/828 [==============================] - 41s 49ms/step - loss: 2.8495e-06\n",
      "Epoch 48/60\n",
      "828/828 [==============================] - 41s 49ms/step - loss: 2.4424e-06\n",
      "Epoch 49/60\n",
      "828/828 [==============================] - 35s 43ms/step - loss: 3.4117e-06\n",
      "Epoch 50/60\n",
      "828/828 [==============================] - 30s 37ms/step - loss: 2.4398e-06\n",
      "Epoch 51/60\n",
      "828/828 [==============================] - 30s 37ms/step - loss: 2.6382e-06\n",
      "Epoch 52/60\n",
      "828/828 [==============================] - 30s 37ms/step - loss: 2.8995e-06\n",
      "Epoch 53/60\n",
      "828/828 [==============================] - 31s 37ms/step - loss: 2.6333e-06\n",
      "Epoch 54/60\n",
      "828/828 [==============================] - 31s 37ms/step - loss: 2.0020e-06\n",
      "Epoch 55/60\n",
      "828/828 [==============================] - 31s 37ms/step - loss: 2.2852e-06\n",
      "Epoch 56/60\n",
      "828/828 [==============================] - 31s 37ms/step - loss: 2.2944e-06\n",
      "Epoch 57/60\n",
      "828/828 [==============================] - 31s 37ms/step - loss: 2.4230e-06\n",
      "Epoch 58/60\n",
      "828/828 [==============================] - 31s 37ms/step - loss: 2.9273e-05\n",
      "Epoch 59/60\n",
      "828/828 [==============================] - 30s 37ms/step - loss: 4.0210e-06\n",
      "Epoch 60/60\n",
      "828/828 [==============================] - 31s 37ms/step - loss: 2.5598e-06\n"
     ]
    }
   ],
   "source": [
    "model.compile(\n",
    "    optimizer='adam', loss='mse')\n",
    "    \n",
    "\n",
    "tf.random.set_seed(123)\n",
    "np.random.seed(123)\n",
    "\n",
    "history = model.fit(\n",
    "    train_input, train_output, epochs=60, batch_size=30, \n",
    "    verbose=1, shuffle=True\n",
    "    )"
   ]
  },
  {
   "attachments": {},
   "cell_type": "markdown",
   "id": "6efc9335",
   "metadata": {},
   "source": [
    "## test"
   ]
  },
  {
   "cell_type": "code",
   "execution_count": 24,
   "id": "b7cd6328",
   "metadata": {},
   "outputs": [],
   "source": [
    "data_test_coarse = np.squeeze(data_all_coarse[0,:,:])"
   ]
  },
  {
   "cell_type": "code",
   "execution_count": 25,
   "id": "2e21254e",
   "metadata": {},
   "outputs": [],
   "source": [
    "test_example = {}\n",
    "test_example['solution'] = data_test_coarse\n",
    "test_example['current_time'] = np.ones(data_test_coarse.shape[0])*0\n",
    "test_example['time_step'] = np.ones(data_test_coarse.shape[0])*1/256*0.6*8"
   ]
  },
  {
   "cell_type": "code",
   "execution_count": 26,
   "id": "77386b1c",
   "metadata": {},
   "outputs": [],
   "source": [
    "def run_pred(initial_condition,pred_time_steps):\n",
    "    if pred_time_steps==0:\n",
    "        solution = initial_condition['solution']\n",
    "    for k in range(pred_time_steps):\n",
    "        solution = model(initial_condition)[:,:,-1]\n",
    "        new_condition = {}\n",
    "        new_condition['solution'] = tf.squeeze(solution)\n",
    "        new_condition['current_time'] = initial_condition['current_time'] + initial_condition['time_step']*4\n",
    "        new_condition['time_step'] = initial_condition['time_step']\n",
    "        initial_condition = new_condition\n",
    "    return solution"
   ]
  },
  {
   "cell_type": "code",
   "execution_count": 27,
   "id": "d9968a94",
   "metadata": {},
   "outputs": [],
   "source": [
    "def show(time_steps):\n",
    "    \n",
    "        \n",
    "    solution_test = run_pred(test_example,time_steps)\n",
    "    \n",
    "    fig, axes = plt.subplots(1,5, figsize=[16,3])\n",
    "    for i, ax in enumerate(axes):\n",
    "        ax.plot(x_coarse, solution_test[5*i, :], marker='*',label='nn')\n",
    "        ax.plot(x_coarse,data_all_coarse[time_steps*8,5*i,:],marker='.',label='ref')\n",
    "        ax.set_ylim(-0.1, 1.1)\n",
    "        ax.set_title('t='+str(8*time_steps))\n",
    "        ax.legend(loc='best')\n",
    "\n",
    "\n",
    "    plt.show()"
   ]
  },
  {
   "cell_type": "code",
   "execution_count": 28,
   "id": "ba4ddeda",
   "metadata": {},
   "outputs": [
    {
     "name": "stdout",
     "output_type": "stream",
     "text": [
      "l_infty 0.10095917942621527\n",
      "l_infty 0.20206508884651167\n",
      "l_infty 0.4027951692226489\n",
      "l_infty 0.6021642349035048\n",
      "l_infty 0.7025862122461748\n"
     ]
    },
    {
     "data": {
      "image/png": "[encoded data removed]",
      "text/plain": [
       "<Figure size 1152x216 with 5 Axes>"
      ]
     },
     "metadata": {
      "needs_background": "light"
     },
     "output_type": "display_data"
    }
   ],
   "source": [
    "show(2)"
   ]
  },
  {
   "attachments": {},
   "cell_type": "markdown",
   "id": "da6d3d91",
   "metadata": {},
   "source": [
    "## mass error"
   ]
  },
  {
   "cell_type": "code",
   "execution_count": null,
   "id": "1cf2cf95",
   "metadata": {},
   "outputs": [],
   "source": [
    "mat1 = io.loadmat[''linear_square_coarse]"
   ]
  },
  {
   "cell_type": "code",
   "execution_count": 111,
   "id": "6a0297fd",
   "metadata": {},
   "outputs": [],
   "source": [
    "data_test = mat1['linear_square_coarse']"
   ]
  },
  {
   "cell_type": "code",
   "execution_count": 112,
   "id": "92a71da8",
   "metadata": {},
   "outputs": [],
   "source": [
    "data_test = data_test.transpose(1,0,2)"
   ]
  },
  {
   "cell_type": "code",
   "execution_count": 113,
   "id": "ca93e07a",
   "metadata": {},
   "outputs": [
    {
     "data": {
      "text/plain": [
       "(54, 30, 32)"
      ]
     },
     "execution_count": 113,
     "metadata": {},
     "output_type": "execute_result"
    }
   ],
   "source": [
    "data_test.shape"
   ]
  },
  {
   "cell_type": "code",
   "execution_count": 114,
   "id": "95b9c5b4",
   "metadata": {},
   "outputs": [],
   "source": [
    "data_test_init = np.squeeze(data_test[0,:,:])"
   ]
  },
  {
   "cell_type": "code",
   "execution_count": 115,
   "id": "5eacf80c",
   "metadata": {},
   "outputs": [],
   "source": [
    "test_example = {}\n",
    "test_example['solution'] = data_test_init\n",
    "test_example['current_time'] = np.ones(data_test_init.shape[0])*0\n",
    "test_example['time_step'] = np.ones(data_test_init.shape[0])*1/256*0.6*4"
   ]
  },
  {
   "cell_type": "code",
   "execution_count": 452,
   "id": "c1029427",
   "metadata": {},
   "outputs": [],
   "source": [
    "def run_collect():\n",
    "    solution_all = []\n",
    "    initial_condition = test_example\n",
    "    solution_all.append(initial_condition['solution'][...,tf.newaxis])\n",
    "    for k in range(16):\n",
    "        solution = model(initial_condition)\n",
    "        solution_all.append(solution)\n",
    "        new_condition = {}\n",
    "        new_condition['solution'] = tf.squeeze(solution[:,:,-1])\n",
    "        new_condition['current_time'] = initial_condition['current_time'] + initial_condition['time_step']*4\n",
    "        new_condition['time_step'] = initial_condition['time_step']\n",
    "        initial_condition = new_condition\n",
    "    return tf.concat(solution_all,axis=2)"
   ]
  },
  {
   "cell_type": "code",
   "execution_count": 453,
   "id": "ef3a9412",
   "metadata": {},
   "outputs": [],
   "source": [
    "solution_test_all = run_collect()"
   ]
  },
  {
   "cell_type": "code",
   "execution_count": 454,
   "id": "f4eb42bf",
   "metadata": {},
   "outputs": [
    {
     "data": {
      "text/plain": [
       "TensorShape([30, 32, 65])"
      ]
     },
     "execution_count": 454,
     "metadata": {},
     "output_type": "execute_result"
    }
   ],
   "source": [
    "solution_test_all.shape"
   ]
  },
  {
   "cell_type": "code",
   "execution_count": 455,
   "id": "8ac38075",
   "metadata": {},
   "outputs": [],
   "source": [
    "def mass_error():\n",
    "    error1 = np.zeros((33,1))\n",
    "    error2 = np.zeros((33,1))\n",
    "    error3 = np.zeros((33,1))\n",
    "    for i in range(33):\n",
    "        error1[i]=tf.abs(tf.reduce_sum(solution_test_all[9,:,2*i])-tf.reduce_sum(data_test[0,9,:]))\n",
    "        error2[i]=tf.abs(tf.reduce_sum(solution_test_all[13,:,2*i])-tf.reduce_sum(data_test[0,13,:]))\n",
    "        error3[i]=tf.abs(tf.reduce_sum(solution_test_all[16,:,2*i])-tf.reduce_sum(data_test[0,16,:]))\n",
    "    time_all = np.linspace(0,256,33)\n",
    "    plt.plot(time_all, error1,c='b',label = 'Sample = 0')\n",
    "    plt.plot(time_all, error2, c='g', label='Sample = 1')\n",
    "    plt.plot(time_all, error3, c='y', label='Sample = 2')\n",
    "    plt.title('Mass error')\n",
    "    plt.legend(loc='best')\n",
    "    plt.show()"
   ]
  }
 ],
 "metadata": {
  "kernelspec": {
   "display_name": "Python 3",
   "language": "python",
   "name": "python3"
  },
  "language_info": {
   "codemirror_mode": {
    "name": "ipython",
    "version": 3
   },
   "file_extension": ".py",
   "mimetype": "text/x-python",
   "name": "python",
   "nbconvert_exporter": "python",
   "pygments_lexer": "ipython3",
   "version": "3.8.8"
  }
 },
 "nbformat": 4,
 "nbformat_minor": 5
}
